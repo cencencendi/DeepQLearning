{
 "cells": [
  {
   "cell_type": "markdown",
   "id": "5a57e989",
   "metadata": {},
   "source": [
    "# Tugas UAS AI: Deep Q-Learning to Control Lunar Lander from Open AI Gym\n",
    "\n",
    "Cendikia Ishmatuka Srihascaryasmoro (19/439607/TK/48337)"
   ]
  },
  {
   "cell_type": "markdown",
   "id": "a8a9c45b",
   "metadata": {},
   "source": [
    "### Import Dependencies"
   ]
  },
  {
   "cell_type": "code",
   "execution_count": 1,
   "id": "0dc1dd5f",
   "metadata": {},
   "outputs": [],
   "source": [
    "import numpy as np\n",
    "import torch\n",
    "import torch.nn as nn\n",
    "import torch.nn.functional as F\n",
    "import torch.optim as optim\n",
    "import gym"
   ]
  },
  {
   "cell_type": "markdown",
   "id": "b08871d6",
   "metadata": {},
   "source": [
    "### Deep Q-Learning Neural Network"
   ]
  },
  {
   "cell_type": "code",
   "execution_count": 2,
   "id": "ce356c6b",
   "metadata": {},
   "outputs": [],
   "source": [
    "class DeepQLearning(nn.Module):\n",
    "    def __init__(self, lr = 0.001, input_dims = None, fc1_dims = None,\n",
    "                 fc2_dims = None, n_actions = None):\n",
    "        '''\n",
    "        Class to represent the neural network for Deep Q-Learning.\n",
    "        Parameters:\n",
    "        ----------\n",
    "        lr: float, default: 0.001\n",
    "            Learning rate for updating weights and biases when doing back propagation.\n",
    "        input_dims: list, default: None\n",
    "            Input dimension for the first layer of the neural network (which is the observation space).\n",
    "        fc1_dims: int, default: None\n",
    "            Number of first layer's neuron.\n",
    "        fc2_dims: int, default: None\n",
    "            Number of second layer's neuron.\n",
    "        n_actions: int, default: None\n",
    "            Number of actions given to the environment.\n",
    "        '''\n",
    "        super(DeepQLearning, self).__init__()\n",
    "        self.lr = lr\n",
    "        self.input_dims = input_dims\n",
    "        self.fc1_dims = fc1_dims\n",
    "        self.fc2_dims = fc2_dims\n",
    "        self.n_actions = n_actions\n",
    "        self.fc1 = nn.Linear(*self.input_dims, self.fc1_dims)\n",
    "        self.fc2 = nn.Linear(self.fc1_dims, self.fc2_dims)\n",
    "        self.fc3 = nn.Linear(self.fc2_dims, n_actions)\n",
    "        self.optimizer = optim.SGD(self.parameters(), lr = self.lr)\n",
    "        self.loss = nn.MSELoss()\n",
    "        self.device = torch.device('cuda:0' if torch.cuda.is_available() else 'cpu')\n",
    "        print(self.device)\n",
    "        self.to(self.device)\n",
    "        \n",
    "    def forward(self, state):\n",
    "        '''\n",
    "        Function to do the forward propagation.\n",
    "        '''\n",
    "        x = F.relu(self.fc1(state))\n",
    "        x = F.relu(self.fc2(x))\n",
    "        actions = self.fc3(x)\n",
    "        \n",
    "        return actions"
   ]
  },
  {
   "cell_type": "markdown",
   "id": "49acb49c",
   "metadata": {},
   "source": [
    "### Deep Q-Learning Agent"
   ]
  },
  {
   "cell_type": "code",
   "execution_count": 3,
   "id": "a9dee6d1",
   "metadata": {},
   "outputs": [],
   "source": [
    "class Agent():\n",
    "    def __init__(self, gamma = 0.99, epsilon = 1.0, lr = 0.001, input_dims = None, batch_size = 64, \n",
    "                 n_actions = None, max_memory_size = 100000, eps_min = 0.01, eps_dec = 5e-4):\n",
    "        '''\n",
    "        Class to represent the agent that is going to be trained and learn about environment.\n",
    "        Parameters:\n",
    "        ----------\n",
    "        gamma: float, default: 0.99\n",
    "            A discount rate, which causes rewards to loses the value over time so more\n",
    "            immediate rewards are valued more highly.\n",
    "        epsilon: float, default: 1.0\n",
    "            the probability rate for the agent chooses a random action to do the Epsilon\n",
    "            Greedy Exploration Strategy.\n",
    "        lr: float, default = 0.001\n",
    "            Learning rate for updating weights and biases when doing back propagation.\n",
    "        input_dims: list, default = None\n",
    "            Input dimension for the first layer of the neural network (which is the observation \n",
    "            space).\n",
    "        n_actions: int, default: None\n",
    "            Number of actions given to the environment.\n",
    "        max_memory_size: int, default: 100000\n",
    "            The maximum size of memory to store the parameters.\n",
    "        eps_min: float, default: 0.01\n",
    "            Epsilon minimum.\n",
    "        eps_dec: float, default: 5e-4\n",
    "            Epsilon decay rate over iterations.\n",
    "        '''\n",
    "        self.gamma = gamma\n",
    "        self.epsilon = epsilon\n",
    "        self.lr = lr\n",
    "        self.batch_size = batch_size\n",
    "        self.action_space = [i for i in range(n_actions)]\n",
    "        self.memory_size = max_memory_size\n",
    "        self.batch_size = batch_size\n",
    "        self.eps_min = eps_min\n",
    "        self.eps_dec = eps_dec\n",
    "        \n",
    "        self.Q_learn = DeepQLearning(self.lr, input_dims = input_dims, n_actions = n_actions,\n",
    "                                     fc1_dims = 256, fc2_dims = 256)\n",
    "        self.mem_counter = 0\n",
    "        \n",
    "        self.state_memory = np.zeros((self.memory_size,*input_dims), dtype=np.float32)\n",
    "        self.new_state_memory = np.copy(self.state_memory)\n",
    "        \n",
    "        self.action_memory = np.zeros(self.memory_size, dtype=np.int32)\n",
    "        self.reward_memory = np.zeros(self.memory_size, dtype=np.float32)\n",
    "        self.condition_memory = np.zeros(self.memory_size, dtype=bool)\n",
    "        \n",
    "    def _store(self, state, action, reward, state_new, done):\n",
    "        '''\n",
    "        Function to store the state, action, reward, current state, and termination.\n",
    "        '''\n",
    "        idx = self.mem_counter%self.memory_size\n",
    "        self.state_memory[idx] = state\n",
    "        self.action_memory[idx] = action\n",
    "        self.reward_memory[idx] = reward\n",
    "        self.new_state_memory[idx] = state_new\n",
    "        self.condition_memory[idx] = done\n",
    "        \n",
    "        self.mem_counter += 1\n",
    "        \n",
    "    def predict(self, obs):\n",
    "        '''\n",
    "        Function to predict the action based on given observation.\n",
    "        '''\n",
    "        if np.random.random() > self.epsilon:\n",
    "            state = torch.tensor(obs).to(self.Q_learn.device)\n",
    "            act = self.Q_learn.forward(state)\n",
    "            action = torch.argmax(act).item()\n",
    "        else:   \n",
    "            action = np.random.choice(self.action_space)\n",
    "            \n",
    "        return action\n",
    "    \n",
    "    def learn(self):\n",
    "        '''\n",
    "        Function to make the agent learn the given environment.\n",
    "        '''\n",
    "        if self.mem_counter < self.batch_size:\n",
    "            return\n",
    "        \n",
    "        self.Q_learn.optimizer.zero_grad()\n",
    "        \n",
    "        max_memory = min(self.mem_counter, self.memory_size)\n",
    "        batch = np.random.choice(max_memory, self.batch_size, replace=False)\n",
    "        batch_idx = np.arange(self.batch_size, dtype=np.int32)\n",
    "        \n",
    "        state_batch = torch.tensor(self.state_memory[batch]).to(self.Q_learn.device)\n",
    "        new_state_batch = torch.tensor(self.new_state_memory[batch]).to(self.Q_learn.device)\n",
    "        reward_batch = torch.tensor(self.reward_memory[batch]).to(self.Q_learn.device)\n",
    "        condition_batch = torch.tensor(self.condition_memory[batch]).to(self.Q_learn.device)\n",
    "        \n",
    "        action_batch = self.action_memory[batch]\n",
    "        \n",
    "        q_eval = self.Q_learn.forward(state_batch)[batch_idx, action_batch]\n",
    "        q_next = self.Q_learn.forward(new_state_batch)\n",
    "        q_next[condition_batch] = 0.0\n",
    "        \n",
    "        q_target = reward_batch + self.gamma*torch.max(q_next, dim=1)[0]\n",
    "        \n",
    "        loss = self.Q_learn.loss(q_target, q_eval).to(self.Q_learn.device)\n",
    "        loss.backward()\n",
    "        self.Q_learn.optimizer.step()\n",
    "        \n",
    "        self.epsilon = self.epsilon - self.eps_dec if self.epsilon > self.eps_min else self.eps_min"
   ]
  },
  {
   "cell_type": "markdown",
   "id": "89aee0c7",
   "metadata": {},
   "source": [
    "### Define the Environment and the Agent"
   ]
  },
  {
   "cell_type": "code",
   "execution_count": 4,
   "id": "7cfc0cd9",
   "metadata": {},
   "outputs": [
    {
     "name": "stdout",
     "output_type": "stream",
     "text": [
      "cuda:0\n"
     ]
    }
   ],
   "source": [
    "env = gym.make('LunarLander-v2')\n",
    "agent = Agent(gamma = 0.99, \n",
    "              epsilon = 1.0, \n",
    "              batch_size = 64, \n",
    "              n_actions = 4, \n",
    "              eps_min = 0.001,\n",
    "              input_dims = [8],\n",
    "              lr = 0.01)\n",
    "n_episode = 1000"
   ]
  },
  {
   "cell_type": "markdown",
   "id": "20a88cb8",
   "metadata": {},
   "source": [
    "### Let's Train"
   ]
  },
  {
   "cell_type": "code",
   "execution_count": 5,
   "id": "d4caec4a",
   "metadata": {},
   "outputs": [
    {
     "name": "stdout",
     "output_type": "stream",
     "text": [
      "Episode: 0, score: -527.36, epsilon: 0.98\n",
      "Episode: 100, score: -323.90, epsilon: 0.01\n",
      "Episode: 200, score: 152.46, epsilon: 0.01\n",
      "Episode: 300, score: 224.80, epsilon: 0.01\n",
      "Episode: 400, score: 244.80, epsilon: 0.01\n",
      "Episode: 500, score: -129.22, epsilon: 0.01\n",
      "Episode: 600, score: -18.65, epsilon: 0.01\n",
      "Episode: 700, score: 295.34, epsilon: 0.01\n",
      "Episode: 800, score: 210.10, epsilon: 0.01\n",
      "Episode: 900, score: -0.49, epsilon: 0.01\n"
     ]
    }
   ],
   "source": [
    "for i in range(n_episode):\n",
    "    score = 0\n",
    "    done = False\n",
    "    obs = env.reset()\n",
    "    while not done:\n",
    "        action = agent.predict(obs)\n",
    "        obs_new, reward, done, info = env.step(action)\n",
    "        score += reward\n",
    "        agent._store(obs, action, reward, obs_new, done)\n",
    "        agent.learn()\n",
    "        obs = obs_new\n",
    "\n",
    "    if (i)%100==0:\n",
    "        print(f\"Episode: {i}, score: {score:.2f}, epsilon: {agent.epsilon:.2f}\")"
   ]
  },
  {
   "cell_type": "markdown",
   "id": "0a44999e",
   "metadata": {},
   "source": [
    "### Testing the agent"
   ]
  },
  {
   "cell_type": "code",
   "execution_count": 7,
   "id": "0170dd7d",
   "metadata": {},
   "outputs": [
    {
     "name": "stdout",
     "output_type": "stream",
     "text": [
      "Episode: 1, score: -5712.99782082549\n",
      "Episode: 2, score: -1111.9155058197475\n",
      "Episode: 3, score: -902.1468336266669\n",
      "Episode: 4, score: -618.5884527708081\n",
      "Episode: 5, score: -450.71531833156195\n"
     ]
    }
   ],
   "source": [
    "for i in range(5):\n",
    "    obs = env.reset()\n",
    "    done = False\n",
    "    score = 0\n",
    "    \n",
    "    while not done:\n",
    "        env.render()\n",
    "        action = agent.predict(obs)\n",
    "        obs, reward, done, info = env.step(action)\n",
    "        score += reward\n",
    "        \n",
    "    print(f\"Episode: {i+1}, score: {score}\")\n",
    "    \n",
    "env.close()"
   ]
  }
 ],
 "metadata": {
  "kernelspec": {
   "display_name": "Python 3 (ipykernel)",
   "language": "python",
   "name": "python3"
  },
  "language_info": {
   "codemirror_mode": {
    "name": "ipython",
    "version": 3
   },
   "file_extension": ".py",
   "mimetype": "text/x-python",
   "name": "python",
   "nbconvert_exporter": "python",
   "pygments_lexer": "ipython3",
   "version": "3.10.6"
  },
  "vscode": {
   "interpreter": {
    "hash": "916dbcbb3f70747c44a77c7bcd40155683ae19c65e1c03b4aa3499c5328201f1"
   }
  }
 },
 "nbformat": 4,
 "nbformat_minor": 5
}
