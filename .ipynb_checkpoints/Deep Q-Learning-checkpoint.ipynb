{
 "cells": [
  {
   "cell_type": "markdown",
   "id": "5a57e989",
   "metadata": {},
   "source": [
    "# Tugas UAS AI: Deep Q-Learning to Control Lunar Lander from Open AI Gym\n",
    "\n",
    "Cendikia Ishmatuka Srihascaryasmoro (19/439607/TK/48337)"
   ]
  },
  {
   "cell_type": "markdown",
   "id": "a8a9c45b",
   "metadata": {},
   "source": [
    "### Import Dependencies"
   ]
  },
  {
   "cell_type": "code",
   "execution_count": 1,
   "id": "0dc1dd5f",
   "metadata": {},
   "outputs": [],
   "source": [
    "import numpy as np\n",
    "import torch\n",
    "import torch.nn as nn\n",
    "import torch.nn.functional as F\n",
    "import torch.optim as optim\n",
    "import gym"
   ]
  },
  {
   "cell_type": "markdown",
   "id": "b08871d6",
   "metadata": {},
   "source": [
    "### Deep Q-Learning Neural Network"
   ]
  },
  {
   "cell_type": "code",
   "execution_count": 2,
   "id": "ce356c6b",
   "metadata": {},
   "outputs": [],
   "source": [
    "class DeepQLearning(nn.Module):\n",
    "    def __init__(self, lr = 0.01, input_dims = None, fc1_dims = None,\n",
    "                 fc2_dims = None, n_actions = None):\n",
    "        '''\n",
    "        Class to represent the neural network for Deep Q-Learning.\n",
    "        Parameters:\n",
    "        ----------\n",
    "        lr: float, default: 0.01\n",
    "            Learning rate for updating weights and biases when doing back propagation.\n",
    "        input_dims: list, default: None\n",
    "            Input dimension for the first layer of the neural network (which is the observation space).\n",
    "        fc1_dims: int, default: None\n",
    "            Number of first layer's neuron.\n",
    "        fc2_dims: int, default: None\n",
    "            Number of second layer's neuron.\n",
    "        n_actions: int, default: None\n",
    "            Number of actions given to the environment.\n",
    "        '''\n",
    "        super(DeepQLearning, self).__init__()\n",
    "        self.lr = lr\n",
    "        self.input_dims = input_dims\n",
    "        self.fc1_dims = fc1_dims\n",
    "        self.fc2_dims = fc2_dims\n",
    "        self.n_actions = n_actions\n",
    "        self.fc1 = nn.Linear(*self.input_dims, self.fc1_dims)\n",
    "        self.fc2 = nn.Linear(self.fc1_dims, self.fc2_dims)\n",
    "        self.fc3 = nn.Linear(self.fc2_dims, n_actions)\n",
    "        self.optimizer = optim.SGD(self.parameters(), lr = self.lr)\n",
    "        self.loss = nn.MSELoss()\n",
    "        self.device = torch.device('cuda:0' if torch.cuda.is_available() else 'cpu')\n",
    "        print(self.device)\n",
    "        self.to(self.device)\n",
    "        \n",
    "    def forward(self, state):\n",
    "        '''\n",
    "        Function to do the forward propagation.\n",
    "        '''\n",
    "        x = F.relu(self.fc1(state))\n",
    "        x = F.relu(self.fc2(x))\n",
    "        actions = self.fc3(x)\n",
    "        \n",
    "        return actions"
   ]
  },
  {
   "cell_type": "markdown",
   "id": "49acb49c",
   "metadata": {},
   "source": [
    "### Deep Q-Learning Agent"
   ]
  },
  {
   "cell_type": "code",
   "execution_count": 3,
   "id": "a9dee6d1",
   "metadata": {},
   "outputs": [],
   "source": [
    "class Agent():\n",
    "    def __init__(self, gamma = 0.99, epsilon = 1.0, lr = 0.01, input_dims = None, batch_size = 64, \n",
    "                 n_actions = None, max_memory_size = 100000, eps_min = 0.01, eps_dec = 5e-4):\n",
    "        '''\n",
    "        Class to represent the agent that is going to be trained and learn about environment.\n",
    "        Parameters:\n",
    "        ----------\n",
    "        gamma: float, default: 0.99\n",
    "            A discount rate, which causes rewards to loses the value over time so more\n",
    "            immediate rewards are valued more highly.\n",
    "        epsilon: float, default: 1.0\n",
    "            the probability rate for the agent chooses a random action to do the Epsilon\n",
    "            Greedy Exploration Strategy.\n",
    "        lr: float, default = 0.01\n",
    "            Learning rate for updating weights and biases when doing back propagation.\n",
    "        input_dims: list, default = None\n",
    "            Input dimension for the first layer of the neural network (which is the observation \n",
    "            space).\n",
    "        n_actions: int, default: None\n",
    "            Number of actions given to the environment.\n",
    "        max_memory_size: int, default: 100000\n",
    "            The maximum size of memory to store the parameters.\n",
    "        eps_min: float, default: 0.01\n",
    "            Epsilon minimum.\n",
    "        eps_dec: float, default: 5e-4\n",
    "            Epsilon decay rate over iterations.\n",
    "        '''\n",
    "        self.gamma = gamma\n",
    "        self.epsilon = epsilon\n",
    "        self.lr = lr\n",
    "        self.batch_size = batch_size\n",
    "        self.action_space = [i for i in range(n_actions)]\n",
    "        self.memory_size = max_memory_size\n",
    "        self.batch_size = batch_size\n",
    "        self.eps_min = eps_min\n",
    "        self.eps_dec = eps_dec\n",
    "        \n",
    "        self.Q_learn = DeepQLearning(self.lr, input_dims = input_dims, n_actions = n_actions,\n",
    "                                     fc1_dims = 256, fc2_dims = 256)\n",
    "        self.mem_counter = 0\n",
    "        \n",
    "        self.state_memory = np.zeros((self.memory_size,*input_dims), dtype=np.float32)\n",
    "        self.new_state_memory = np.copy(self.state_memory)\n",
    "        \n",
    "        self.action_memory = np.zeros(self.memory_size, dtype=np.int32)\n",
    "        self.reward_memory = np.zeros(self.memory_size, dtype=np.float32)\n",
    "        self.condition_memory = np.zeros(self.memory_size, dtype=bool)\n",
    "        \n",
    "    def _store(self, state, action, reward, state_new, done):\n",
    "        '''\n",
    "        Function to store the state, action, reward, current state, and termination.\n",
    "        '''\n",
    "        idx = self.mem_counter%self.memory_size\n",
    "        self.state_memory[idx] = state\n",
    "        self.action_memory[idx] = action\n",
    "        self.reward_memory[idx] = reward\n",
    "        self.new_state_memory[idx] = state_new\n",
    "        self.condition_memory[idx] = done\n",
    "        \n",
    "        self.mem_counter += 1\n",
    "        \n",
    "    def predict(self, obs):\n",
    "        '''\n",
    "        Function to predict the action based on given observation.\n",
    "        '''\n",
    "        if np.random.random() > self.epsilon:\n",
    "            state = torch.tensor(obs).to(self.Q_learn.device)\n",
    "            act = self.Q_learn.forward(state)\n",
    "            action = torch.argmax(act).item()\n",
    "        else:   \n",
    "            action = np.random.choice(self.action_space)\n",
    "            \n",
    "        return action\n",
    "    \n",
    "    def learn(self):\n",
    "        '''\n",
    "        Function to make the agent learn the given environment.\n",
    "        '''\n",
    "        if self.mem_counter < self.batch_size:\n",
    "            return\n",
    "        \n",
    "        self.Q_learn.optimizer.zero_grad()\n",
    "        \n",
    "        max_memory = min(self.mem_counter, self.memory_size)\n",
    "        batch = np.random.choice(max_memory, self.batch_size, replace=False)\n",
    "        batch_idx = np.arange(self.batch_size, dtype=np.int32)\n",
    "        \n",
    "        state_batch = torch.tensor(self.state_memory[batch]).to(self.Q_learn.device)\n",
    "        new_state_batch = torch.tensor(self.new_state_memory[batch]).to(self.Q_learn.device)\n",
    "        reward_batch = torch.tensor(self.reward_memory[batch]).to(self.Q_learn.device)\n",
    "        condition_batch = torch.tensor(self.condition_memory[batch]).to(self.Q_learn.device)\n",
    "        \n",
    "        action_batch = self.action_memory[batch]\n",
    "        \n",
    "        q_eval = self.Q_learn.forward(state_batch)[batch_idx, action_batch]\n",
    "        q_next = self.Q_learn.forward(new_state_batch)\n",
    "        q_next[condition_batch] = 0.0\n",
    "        \n",
    "        q_target = reward_batch + self.gamma*torch.max(q_next, dim=1)[0]\n",
    "        \n",
    "        loss = self.Q_learn.loss(q_target, q_eval).to(self.Q_learn.device)\n",
    "        loss.backward()\n",
    "        self.Q_learn.optimizer.step()\n",
    "        \n",
    "        self.epsilon = self.epsilon - self.eps_dec if self.epsilon > self.eps_min else self.eps_min"
   ]
  },
  {
   "cell_type": "code",
   "execution_count": 8,
   "id": "7cfc0cd9",
   "metadata": {},
   "outputs": [
    {
     "name": "stdout",
     "output_type": "stream",
     "text": [
      "cuda:0\n"
     ]
    }
   ],
   "source": [
    "env = gym.make('LunarLander-v2')\n",
    "agent = Agent(gamma = 0.99, \n",
    "              epsilon = 1.0, \n",
    "              batch_size = 64, \n",
    "              n_actions = 4, \n",
    "              eps_min = 0.01,\n",
    "              input_dims = [8],\n",
    "              lr = 0.01)\n",
    "n_episode = 1000"
   ]
  },
  {
   "cell_type": "code",
   "execution_count": 5,
   "id": "d4caec4a",
   "metadata": {},
   "outputs": [
    {
     "name": "stdout",
     "output_type": "stream",
     "text": [
      "Episode: 0, score: -81.36, average score: -81.36, epsilon: 0.99\n",
      "Episode: 100, score: -121.07, average score: -131.37, epsilon: 0.01\n",
      "Episode: 200, score: -48.99, average score: -104.92, epsilon: 0.01\n",
      "Episode: 300, score: 137.79, average score: -53.10, epsilon: 0.01\n",
      "Episode: 400, score: 55.05, average score: -5.24, epsilon: 0.01\n",
      "Episode: 500, score: -44.34, average score: 21.12, epsilon: 0.01\n",
      "Episode: 600, score: 260.59, average score: 39.86, epsilon: 0.01\n",
      "Episode: 700, score: -54.36, average score: 57.19, epsilon: 0.01\n",
      "Episode: 800, score: 279.51, average score: 73.47, epsilon: 0.01\n",
      "Episode: 900, score: 254.09, average score: 87.90, epsilon: 0.01\n",
      "Episode: 1000, score: -80.45, average score: 98.07, epsilon: 0.01\n",
      "Episode: 1100, score: 273.94, average score: 102.38, epsilon: 0.01\n",
      "Episode: 1200, score: 259.19, average score: 108.84, epsilon: 0.01\n",
      "Episode: 1300, score: 286.87, average score: 114.95, epsilon: 0.01\n",
      "Episode: 1400, score: 222.05, average score: 120.37, epsilon: 0.01\n",
      "Episode: 1500, score: 265.60, average score: 119.66, epsilon: 0.01\n",
      "Episode: 1600, score: 50.66, average score: 123.75, epsilon: 0.01\n",
      "Episode: 1700, score: 271.91, average score: 130.14, epsilon: 0.01\n",
      "Episode: 1800, score: 303.07, average score: 135.27, epsilon: 0.01\n",
      "Episode: 1900, score: -11.36, average score: 137.60, epsilon: 0.01\n",
      "Episode: 2000, score: 225.94, average score: 134.08, epsilon: 0.01\n",
      "Episode: 2100, score: 269.97, average score: 136.53, epsilon: 0.01\n",
      "Episode: 2200, score: 286.53, average score: 140.74, epsilon: 0.01\n",
      "Episode: 2300, score: 254.42, average score: 145.07, epsilon: 0.01\n",
      "Episode: 2400, score: 10.29, average score: 147.25, epsilon: 0.01\n"
     ]
    },
    {
     "ename": "KeyboardInterrupt",
     "evalue": "",
     "output_type": "error",
     "traceback": [
      "\u001b[0;31m---------------------------------------------------------------------------\u001b[0m",
      "\u001b[0;31mKeyboardInterrupt\u001b[0m                         Traceback (most recent call last)",
      "\u001b[1;32m/config/Documents/cendi/DeepQLearning/Deep Q-Learning.ipynb Cell 9\u001b[0m in \u001b[0;36m<cell line: 2>\u001b[0;34m()\u001b[0m\n\u001b[1;32m      <a href='vscode-notebook-cell:/config/Documents/cendi/DeepQLearning/Deep%20Q-Learning.ipynb#W4sZmlsZQ%3D%3D?line=4'>5</a>\u001b[0m obs \u001b[39m=\u001b[39m env\u001b[39m.\u001b[39mreset()\n\u001b[1;32m      <a href='vscode-notebook-cell:/config/Documents/cendi/DeepQLearning/Deep%20Q-Learning.ipynb#W4sZmlsZQ%3D%3D?line=5'>6</a>\u001b[0m \u001b[39mwhile\u001b[39;00m \u001b[39mnot\u001b[39;00m done:\n\u001b[0;32m----> <a href='vscode-notebook-cell:/config/Documents/cendi/DeepQLearning/Deep%20Q-Learning.ipynb#W4sZmlsZQ%3D%3D?line=6'>7</a>\u001b[0m     action \u001b[39m=\u001b[39m agent\u001b[39m.\u001b[39;49mpredict(obs)\n\u001b[1;32m      <a href='vscode-notebook-cell:/config/Documents/cendi/DeepQLearning/Deep%20Q-Learning.ipynb#W4sZmlsZQ%3D%3D?line=7'>8</a>\u001b[0m     obs_new, reward, done, info \u001b[39m=\u001b[39m env\u001b[39m.\u001b[39mstep(action)\n\u001b[1;32m      <a href='vscode-notebook-cell:/config/Documents/cendi/DeepQLearning/Deep%20Q-Learning.ipynb#W4sZmlsZQ%3D%3D?line=8'>9</a>\u001b[0m     score \u001b[39m+\u001b[39m\u001b[39m=\u001b[39m reward\n",
      "\u001b[1;32m/config/Documents/cendi/DeepQLearning/Deep Q-Learning.ipynb Cell 9\u001b[0m in \u001b[0;36mAgent.predict\u001b[0;34m(self, obs)\u001b[0m\n\u001b[1;32m     <a href='vscode-notebook-cell:/config/Documents/cendi/DeepQLearning/Deep%20Q-Learning.ipynb#W4sZmlsZQ%3D%3D?line=35'>36</a>\u001b[0m \u001b[39mif\u001b[39;00m np\u001b[39m.\u001b[39mrandom\u001b[39m.\u001b[39mrandom() \u001b[39m>\u001b[39m \u001b[39mself\u001b[39m\u001b[39m.\u001b[39mepsilon:\n\u001b[1;32m     <a href='vscode-notebook-cell:/config/Documents/cendi/DeepQLearning/Deep%20Q-Learning.ipynb#W4sZmlsZQ%3D%3D?line=36'>37</a>\u001b[0m     state \u001b[39m=\u001b[39m torch\u001b[39m.\u001b[39mtensor(obs)\u001b[39m.\u001b[39mto(\u001b[39mself\u001b[39m\u001b[39m.\u001b[39mQ_learn\u001b[39m.\u001b[39mdevice)\n\u001b[0;32m---> <a href='vscode-notebook-cell:/config/Documents/cendi/DeepQLearning/Deep%20Q-Learning.ipynb#W4sZmlsZQ%3D%3D?line=37'>38</a>\u001b[0m     act \u001b[39m=\u001b[39m \u001b[39mself\u001b[39;49m\u001b[39m.\u001b[39;49mQ_learn\u001b[39m.\u001b[39;49mforward(state)\n\u001b[1;32m     <a href='vscode-notebook-cell:/config/Documents/cendi/DeepQLearning/Deep%20Q-Learning.ipynb#W4sZmlsZQ%3D%3D?line=38'>39</a>\u001b[0m     action \u001b[39m=\u001b[39m torch\u001b[39m.\u001b[39margmax(act)\u001b[39m.\u001b[39mitem()\n\u001b[1;32m     <a href='vscode-notebook-cell:/config/Documents/cendi/DeepQLearning/Deep%20Q-Learning.ipynb#W4sZmlsZQ%3D%3D?line=39'>40</a>\u001b[0m \u001b[39melse\u001b[39;00m:   \n",
      "\u001b[1;32m/config/Documents/cendi/DeepQLearning/Deep Q-Learning.ipynb Cell 9\u001b[0m in \u001b[0;36mDeepQLearning.forward\u001b[0;34m(self, state)\u001b[0m\n\u001b[1;32m     <a href='vscode-notebook-cell:/config/Documents/cendi/DeepQLearning/Deep%20Q-Learning.ipynb#W4sZmlsZQ%3D%3D?line=17'>18</a>\u001b[0m \u001b[39mdef\u001b[39;00m \u001b[39mforward\u001b[39m(\u001b[39mself\u001b[39m, state):\n\u001b[1;32m     <a href='vscode-notebook-cell:/config/Documents/cendi/DeepQLearning/Deep%20Q-Learning.ipynb#W4sZmlsZQ%3D%3D?line=18'>19</a>\u001b[0m     x \u001b[39m=\u001b[39m F\u001b[39m.\u001b[39mrelu(\u001b[39mself\u001b[39m\u001b[39m.\u001b[39mfc1(state))\n\u001b[0;32m---> <a href='vscode-notebook-cell:/config/Documents/cendi/DeepQLearning/Deep%20Q-Learning.ipynb#W4sZmlsZQ%3D%3D?line=19'>20</a>\u001b[0m     x \u001b[39m=\u001b[39m F\u001b[39m.\u001b[39mrelu(\u001b[39mself\u001b[39;49m\u001b[39m.\u001b[39;49mfc2(x))\n\u001b[1;32m     <a href='vscode-notebook-cell:/config/Documents/cendi/DeepQLearning/Deep%20Q-Learning.ipynb#W4sZmlsZQ%3D%3D?line=20'>21</a>\u001b[0m     actions \u001b[39m=\u001b[39m \u001b[39mself\u001b[39m\u001b[39m.\u001b[39mfc3(x)\n\u001b[1;32m     <a href='vscode-notebook-cell:/config/Documents/cendi/DeepQLearning/Deep%20Q-Learning.ipynb#W4sZmlsZQ%3D%3D?line=22'>23</a>\u001b[0m     \u001b[39mreturn\u001b[39;00m actions\n",
      "File \u001b[0;32m~/.local/lib/python3.10/site-packages/torch/nn/modules/module.py:1130\u001b[0m, in \u001b[0;36mModule._call_impl\u001b[0;34m(self, *input, **kwargs)\u001b[0m\n\u001b[1;32m   1126\u001b[0m \u001b[39m# If we don't have any hooks, we want to skip the rest of the logic in\u001b[39;00m\n\u001b[1;32m   1127\u001b[0m \u001b[39m# this function, and just call forward.\u001b[39;00m\n\u001b[1;32m   1128\u001b[0m \u001b[39mif\u001b[39;00m \u001b[39mnot\u001b[39;00m (\u001b[39mself\u001b[39m\u001b[39m.\u001b[39m_backward_hooks \u001b[39mor\u001b[39;00m \u001b[39mself\u001b[39m\u001b[39m.\u001b[39m_forward_hooks \u001b[39mor\u001b[39;00m \u001b[39mself\u001b[39m\u001b[39m.\u001b[39m_forward_pre_hooks \u001b[39mor\u001b[39;00m _global_backward_hooks\n\u001b[1;32m   1129\u001b[0m         \u001b[39mor\u001b[39;00m _global_forward_hooks \u001b[39mor\u001b[39;00m _global_forward_pre_hooks):\n\u001b[0;32m-> 1130\u001b[0m     \u001b[39mreturn\u001b[39;00m forward_call(\u001b[39m*\u001b[39;49m\u001b[39minput\u001b[39;49m, \u001b[39m*\u001b[39;49m\u001b[39m*\u001b[39;49mkwargs)\n\u001b[1;32m   1131\u001b[0m \u001b[39m# Do not call functions when jit is used\u001b[39;00m\n\u001b[1;32m   1132\u001b[0m full_backward_hooks, non_full_backward_hooks \u001b[39m=\u001b[39m [], []\n",
      "File \u001b[0;32m~/.local/lib/python3.10/site-packages/torch/nn/modules/linear.py:114\u001b[0m, in \u001b[0;36mLinear.forward\u001b[0;34m(self, input)\u001b[0m\n\u001b[1;32m    113\u001b[0m \u001b[39mdef\u001b[39;00m \u001b[39mforward\u001b[39m(\u001b[39mself\u001b[39m, \u001b[39minput\u001b[39m: Tensor) \u001b[39m-\u001b[39m\u001b[39m>\u001b[39m Tensor:\n\u001b[0;32m--> 114\u001b[0m     \u001b[39mreturn\u001b[39;00m F\u001b[39m.\u001b[39;49mlinear(\u001b[39minput\u001b[39;49m, \u001b[39mself\u001b[39;49m\u001b[39m.\u001b[39;49mweight, \u001b[39mself\u001b[39;49m\u001b[39m.\u001b[39;49mbias)\n",
      "\u001b[0;31mKeyboardInterrupt\u001b[0m: "
     ]
    }
   ],
   "source": [
    "scores, epsilon_history = [], []\n",
    "for i in range(n_episode):\n",
    "    score = 0\n",
    "    done = False\n",
    "    obs = env.reset()\n",
    "    while not done:\n",
    "        action = agent.predict(obs)\n",
    "        obs_new, reward, done, info = env.step(action)\n",
    "        score += reward\n",
    "        agent._store(obs, action, reward, obs_new, done)\n",
    "        agent.learn()\n",
    "        obs = obs_new\n",
    "    \n",
    "    avg_score = np.mean(scores)\n",
    "    if (i)%100==0:\n",
    "        print(f\"Episode: {i}, score: {score:.2f}, average score: {avg_score:.2f}, epsilon: {agent.epsilon:.2f}\")"
   ]
  },
  {
   "cell_type": "code",
   "execution_count": 7,
   "id": "0170dd7d",
   "metadata": {},
   "outputs": [
    {
     "name": "stdout",
     "output_type": "stream",
     "text": [
      "Episode: 1, score: 205.40016790974576\n",
      "Episode: 2, score: 225.0334852925111\n",
      "Episode: 3, score: 93.46668145027238\n",
      "Episode: 4, score: 97.04872075220939\n",
      "Episode: 5, score: 228.77004932417952\n"
     ]
    }
   ],
   "source": [
    "for i in range(5):\n",
    "    obs = env.reset()\n",
    "    done = False\n",
    "    score = 0\n",
    "    \n",
    "    while not done:\n",
    "        env.render()\n",
    "        action = agent.predict(obs)\n",
    "        obs, reward, done, info = env.step(action)\n",
    "        score += reward\n",
    "        \n",
    "    print(f\"Episode: {i+1}, score: {score}\")\n",
    "    \n",
    "env.close()"
   ]
  }
 ],
 "metadata": {
  "kernelspec": {
   "display_name": "Python 3 (ipykernel)",
   "language": "python",
   "name": "python3"
  },
  "language_info": {
   "codemirror_mode": {
    "name": "ipython",
    "version": 3
   },
   "file_extension": ".py",
   "mimetype": "text/x-python",
   "name": "python",
   "nbconvert_exporter": "python",
   "pygments_lexer": "ipython3",
   "version": "3.10.6"
  },
  "vscode": {
   "interpreter": {
    "hash": "916dbcbb3f70747c44a77c7bcd40155683ae19c65e1c03b4aa3499c5328201f1"
   }
  }
 },
 "nbformat": 4,
 "nbformat_minor": 5
}
